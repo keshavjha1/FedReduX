{
 "cells": [
  {
   "cell_type": "code",
   "execution_count": 2,
   "metadata": {
    "collapsed": true,
    "ExecuteTime": {
     "start_time": "2023-04-27T18:31:29.452778Z",
     "end_time": "2023-04-27T18:31:44.644487Z"
    }
   },
   "outputs": [
    {
     "name": "stdout",
     "output_type": "stream",
     "text": [
      ".\n",
      "['c3.csv', 'c2.csv', 'preprocessing.ipynb', '.DS_Store', 'Issuelogs.txt', 'preprocess.py', 'deciscion.md', '2.py', 'invalid.csv', 'LogModel.py', '__pycache__', '.editorconfig', 'c3.txt', 'extractlog.py', 'c11.txt', 'c2.txt', '.gitignore', '1.ipynb', '1.py', 'filter.py', '.ipynb_checkpoints', '.git', 'main.py', 'c21.csv', '.idea']\n"
     ]
    },
    {
     "data": {
      "text/plain": "   index     log_level         timestamp                device    component   \n0      0  local7.debug   Apr  3 04:22:28  e13sinjuk-swps900100  VBOND[2437]  \\\n1      1  local7.debug   Apr  3 04:22:30  e13sinjuk-swps900100  VBOND[2437]   \n2      2  local7.debug   Apr  3 04:22:30  e13sinjuk-swps900100  VBOND[2437]   \n3      3  local7.debug   Apr  3 04:22:30  e13sinjuk-swps900100  VBOND[2437]   \n4      4   local7.info   Apr  3 04:22:30  e13sinjuk-swps900100  VBOND[2437]   \n\n                                         log_message   \n0  vbond_handshake_event_cb[6771]: %VDAEMON_DBG_M...  \\\n1  vdaemon_find_vedge_in_vedge_list[181]: %VDAEMO...   \n2  vdaemon_verify_peer_bidcert[552]: %VDAEMON_DBG...   \n3  vbond_peer_delete[1768]: %VDAEMON_DBG_ERROR-1:...   \n4  %Viptela-e13sinjuk-swps900100-vbond_0-6-INFO-1...   \n\n                                                json  label  \n0  {\\n    \"vbond_handshake_event_cb[6771]\": {\\n  ...  Debug  \n1  {\\n    \"vdaemon_find_vedge_in_vedge_list[181]\"...  Debug  \n2  {\\n    \"vdaemon_verify_peer_bidcert[552]\": {\\n...  Debug  \n3  {\\n    \"vbond_peer_delete[1768]\": {\\n        \"...  Debug  \n4  {\\n    \"%Viptela-e13sinjuk-swps900100-vbond_0-...   Info  ",
      "text/html": "<div>\n<style scoped>\n    .dataframe tbody tr th:only-of-type {\n        vertical-align: middle;\n    }\n\n    .dataframe tbody tr th {\n        vertical-align: top;\n    }\n\n    .dataframe thead th {\n        text-align: right;\n    }\n</style>\n<table border=\"1\" class=\"dataframe\">\n  <thead>\n    <tr style=\"text-align: right;\">\n      <th></th>\n      <th>index</th>\n      <th>log_level</th>\n      <th>timestamp</th>\n      <th>device</th>\n      <th>component</th>\n      <th>log_message</th>\n      <th>json</th>\n      <th>label</th>\n    </tr>\n  </thead>\n  <tbody>\n    <tr>\n      <th>0</th>\n      <td>0</td>\n      <td>local7.debug</td>\n      <td>Apr  3 04:22:28</td>\n      <td>e13sinjuk-swps900100</td>\n      <td>VBOND[2437]</td>\n      <td>vbond_handshake_event_cb[6771]: %VDAEMON_DBG_M...</td>\n      <td>{\\n    \"vbond_handshake_event_cb[6771]\": {\\n  ...</td>\n      <td>Debug</td>\n    </tr>\n    <tr>\n      <th>1</th>\n      <td>1</td>\n      <td>local7.debug</td>\n      <td>Apr  3 04:22:30</td>\n      <td>e13sinjuk-swps900100</td>\n      <td>VBOND[2437]</td>\n      <td>vdaemon_find_vedge_in_vedge_list[181]: %VDAEMO...</td>\n      <td>{\\n    \"vdaemon_find_vedge_in_vedge_list[181]\"...</td>\n      <td>Debug</td>\n    </tr>\n    <tr>\n      <th>2</th>\n      <td>2</td>\n      <td>local7.debug</td>\n      <td>Apr  3 04:22:30</td>\n      <td>e13sinjuk-swps900100</td>\n      <td>VBOND[2437]</td>\n      <td>vdaemon_verify_peer_bidcert[552]: %VDAEMON_DBG...</td>\n      <td>{\\n    \"vdaemon_verify_peer_bidcert[552]\": {\\n...</td>\n      <td>Debug</td>\n    </tr>\n    <tr>\n      <th>3</th>\n      <td>3</td>\n      <td>local7.debug</td>\n      <td>Apr  3 04:22:30</td>\n      <td>e13sinjuk-swps900100</td>\n      <td>VBOND[2437]</td>\n      <td>vbond_peer_delete[1768]: %VDAEMON_DBG_ERROR-1:...</td>\n      <td>{\\n    \"vbond_peer_delete[1768]\": {\\n        \"...</td>\n      <td>Debug</td>\n    </tr>\n    <tr>\n      <th>4</th>\n      <td>4</td>\n      <td>local7.info</td>\n      <td>Apr  3 04:22:30</td>\n      <td>e13sinjuk-swps900100</td>\n      <td>VBOND[2437]</td>\n      <td>%Viptela-e13sinjuk-swps900100-vbond_0-6-INFO-1...</td>\n      <td>{\\n    \"%Viptela-e13sinjuk-swps900100-vbond_0-...</td>\n      <td>Info</td>\n    </tr>\n  </tbody>\n</table>\n</div>"
     },
     "execution_count": 2,
     "metadata": {},
     "output_type": "execute_result"
    }
   ],
   "source": [
    "import pandas as pd\n",
    "import os\n",
    "print(os.curdir)\n",
    "print(os.listdir(os.curdir))\n",
    "df = pd.read_csv(\"c21.csv\")\n",
    "df.head(5)"
   ]
  },
  {
   "cell_type": "code",
   "execution_count": 3,
   "outputs": [
    {
     "data": {
      "text/plain": "                 index                                                  \n                 count          mean           std      min       25%   \nlabel                                                                   \nDebug          31715.0  22850.834369  13268.000632      0.0  11336.50  \\\nHigh Critical     38.0  42008.500000     11.113055  41990.0  41999.25   \nInfo           12713.0  20943.914733  12095.568503      4.0  10598.00   \nNotice            32.0  41265.968750   1573.901388  39392.0  39474.75   \nWarning            2.0  42393.000000   1841.306058  41091.0  41742.00   \n\n                                           \n                   50%       75%      max  \nlabel                                      \nDebug          22843.0  34349.50  45523.0  \nHigh Critical  42008.5  42017.75  42027.0  \nInfo           20816.0  31041.00  45525.0  \nNotice         41527.0  42200.50  44189.0  \nWarning        42393.0  43044.00  43695.0  ",
      "text/html": "<div>\n<style scoped>\n    .dataframe tbody tr th:only-of-type {\n        vertical-align: middle;\n    }\n\n    .dataframe tbody tr th {\n        vertical-align: top;\n    }\n\n    .dataframe thead tr th {\n        text-align: left;\n    }\n\n    .dataframe thead tr:last-of-type th {\n        text-align: right;\n    }\n</style>\n<table border=\"1\" class=\"dataframe\">\n  <thead>\n    <tr>\n      <th></th>\n      <th colspan=\"8\" halign=\"left\">index</th>\n    </tr>\n    <tr>\n      <th></th>\n      <th>count</th>\n      <th>mean</th>\n      <th>std</th>\n      <th>min</th>\n      <th>25%</th>\n      <th>50%</th>\n      <th>75%</th>\n      <th>max</th>\n    </tr>\n    <tr>\n      <th>label</th>\n      <th></th>\n      <th></th>\n      <th></th>\n      <th></th>\n      <th></th>\n      <th></th>\n      <th></th>\n      <th></th>\n    </tr>\n  </thead>\n  <tbody>\n    <tr>\n      <th>Debug</th>\n      <td>31715.0</td>\n      <td>22850.834369</td>\n      <td>13268.000632</td>\n      <td>0.0</td>\n      <td>11336.50</td>\n      <td>22843.0</td>\n      <td>34349.50</td>\n      <td>45523.0</td>\n    </tr>\n    <tr>\n      <th>High Critical</th>\n      <td>38.0</td>\n      <td>42008.500000</td>\n      <td>11.113055</td>\n      <td>41990.0</td>\n      <td>41999.25</td>\n      <td>42008.5</td>\n      <td>42017.75</td>\n      <td>42027.0</td>\n    </tr>\n    <tr>\n      <th>Info</th>\n      <td>12713.0</td>\n      <td>20943.914733</td>\n      <td>12095.568503</td>\n      <td>4.0</td>\n      <td>10598.00</td>\n      <td>20816.0</td>\n      <td>31041.00</td>\n      <td>45525.0</td>\n    </tr>\n    <tr>\n      <th>Notice</th>\n      <td>32.0</td>\n      <td>41265.968750</td>\n      <td>1573.901388</td>\n      <td>39392.0</td>\n      <td>39474.75</td>\n      <td>41527.0</td>\n      <td>42200.50</td>\n      <td>44189.0</td>\n    </tr>\n    <tr>\n      <th>Warning</th>\n      <td>2.0</td>\n      <td>42393.000000</td>\n      <td>1841.306058</td>\n      <td>41091.0</td>\n      <td>41742.00</td>\n      <td>42393.0</td>\n      <td>43044.00</td>\n      <td>43695.0</td>\n    </tr>\n  </tbody>\n</table>\n</div>"
     },
     "execution_count": 3,
     "metadata": {},
     "output_type": "execute_result"
    }
   ],
   "source": [
    "df.groupby('label').describe ()\n"
   ],
   "metadata": {
    "collapsed": false,
    "ExecuteTime": {
     "start_time": "2023-04-27T18:32:17.889778Z",
     "end_time": "2023-04-27T18:32:17.983433Z"
    }
   }
  },
  {
   "cell_type": "code",
   "execution_count": 8,
   "outputs": [
    {
     "data": {
      "text/plain": "                 index                                                  \n                 count          mean           std      min       25%   \nlabel                                                                   \nDebug          31715.0  22850.834369  13268.000632      0.0  11336.50  \\\nHigh Critical     38.0  42008.500000     11.113055  41990.0  41999.25   \nInfo           12713.0  20943.914733  12095.568503      4.0  10598.00   \nNotice            32.0  41265.968750   1573.901388  39392.0  39474.75   \nWarning            2.0  42393.000000   1841.306058  41091.0  41742.00   \n\n                                           \n                   50%       75%      max  \nlabel                                      \nDebug          22843.0  34349.50  45523.0  \nHigh Critical  42008.5  42017.75  42027.0  \nInfo           20816.0  31041.00  45525.0  \nNotice         41527.0  42200.50  44189.0  \nWarning        42393.0  43044.00  43695.0  ",
      "text/html": "<div>\n<style scoped>\n    .dataframe tbody tr th:only-of-type {\n        vertical-align: middle;\n    }\n\n    .dataframe tbody tr th {\n        vertical-align: top;\n    }\n\n    .dataframe thead tr th {\n        text-align: left;\n    }\n\n    .dataframe thead tr:last-of-type th {\n        text-align: right;\n    }\n</style>\n<table border=\"1\" class=\"dataframe\">\n  <thead>\n    <tr>\n      <th></th>\n      <th colspan=\"8\" halign=\"left\">index</th>\n    </tr>\n    <tr>\n      <th></th>\n      <th>count</th>\n      <th>mean</th>\n      <th>std</th>\n      <th>min</th>\n      <th>25%</th>\n      <th>50%</th>\n      <th>75%</th>\n      <th>max</th>\n    </tr>\n    <tr>\n      <th>label</th>\n      <th></th>\n      <th></th>\n      <th></th>\n      <th></th>\n      <th></th>\n      <th></th>\n      <th></th>\n      <th></th>\n    </tr>\n  </thead>\n  <tbody>\n    <tr>\n      <th>Debug</th>\n      <td>31715.0</td>\n      <td>22850.834369</td>\n      <td>13268.000632</td>\n      <td>0.0</td>\n      <td>11336.50</td>\n      <td>22843.0</td>\n      <td>34349.50</td>\n      <td>45523.0</td>\n    </tr>\n    <tr>\n      <th>High Critical</th>\n      <td>38.0</td>\n      <td>42008.500000</td>\n      <td>11.113055</td>\n      <td>41990.0</td>\n      <td>41999.25</td>\n      <td>42008.5</td>\n      <td>42017.75</td>\n      <td>42027.0</td>\n    </tr>\n    <tr>\n      <th>Info</th>\n      <td>12713.0</td>\n      <td>20943.914733</td>\n      <td>12095.568503</td>\n      <td>4.0</td>\n      <td>10598.00</td>\n      <td>20816.0</td>\n      <td>31041.00</td>\n      <td>45525.0</td>\n    </tr>\n    <tr>\n      <th>Notice</th>\n      <td>32.0</td>\n      <td>41265.968750</td>\n      <td>1573.901388</td>\n      <td>39392.0</td>\n      <td>39474.75</td>\n      <td>41527.0</td>\n      <td>42200.50</td>\n      <td>44189.0</td>\n    </tr>\n    <tr>\n      <th>Warning</th>\n      <td>2.0</td>\n      <td>42393.000000</td>\n      <td>1841.306058</td>\n      <td>41091.0</td>\n      <td>41742.00</td>\n      <td>42393.0</td>\n      <td>43044.00</td>\n      <td>43695.0</td>\n    </tr>\n  </tbody>\n</table>\n</div>"
     },
     "execution_count": 8,
     "metadata": {},
     "output_type": "execute_result"
    }
   ],
   "source": [
    "df.groupby('label').describe()\n",
    "\n"
   ],
   "metadata": {
    "collapsed": false,
    "ExecuteTime": {
     "start_time": "2023-04-27T18:36:08.762244Z",
     "end_time": "2023-04-27T18:36:08.816555Z"
    }
   }
  },
  {
   "cell_type": "code",
   "execution_count": 9,
   "outputs": [
    {
     "data": {
      "text/plain": "       index     log_level         timestamp                device   \n0          0  local7.debug   Apr  3 04:22:28  e13sinjuk-swps900100  \\\n1          1  local7.debug   Apr  3 04:22:30  e13sinjuk-swps900100   \n2          2  local7.debug   Apr  3 04:22:30  e13sinjuk-swps900100   \n3          3  local7.debug   Apr  3 04:22:30  e13sinjuk-swps900100   \n6          6  local7.debug   Apr  3 04:23:05  e13sinjuk-swps900100   \n...      ...           ...               ...                   ...   \n45518  45518  local7.debug   Apr  5 17:13:20  e13sinjuk-swps900100   \n45520  45520  local7.debug   Apr  5 17:13:41  e13sinjuk-swps900100   \n45521  45521  local7.debug   Apr  5 17:13:43  e13sinjuk-swps900100   \n45522  45522  local7.debug   Apr  5 17:13:43  e13sinjuk-swps900100   \n45523  45523  local7.debug   Apr  5 17:13:43  e13sinjuk-swps900100   \n\n         component                                        log_message   \n0      VBOND[2437]  vbond_handshake_event_cb[6771]: %VDAEMON_DBG_M...  \\\n1      VBOND[2437]  vdaemon_find_vedge_in_vedge_list[181]: %VDAEMO...   \n2      VBOND[2437]  vdaemon_verify_peer_bidcert[552]: %VDAEMON_DBG...   \n3      VBOND[2437]  vbond_peer_delete[1768]: %VDAEMON_DBG_ERROR-1:...   \n6      ZEBRA[1237]                    RTM_DELROUTE ipv6 unicast proto   \n...            ...                                                ...   \n45518           sw                  trap_cleanup_2: Cleaning up umask   \n45520  VBOND[2410]  vbond_handshake_event_cb[6771]: %VDAEMON_DBG_M...   \n45521  VBOND[2410]  vdaemon_find_vedge_in_vedge_list[181]: %VDAEMO...   \n45522  VBOND[2410]  vdaemon_verify_peer_bidcert[552]: %VDAEMON_DBG...   \n45523  VBOND[2410]  vbond_peer_delete[1768]: %VDAEMON_DBG_ERROR-1:...   \n\n                                                    json  label  \n0      {\\n    \"vbond_handshake_event_cb[6771]\": {\\n  ...  Debug  \n1      {\\n    \"vdaemon_find_vedge_in_vedge_list[181]\"...  Debug  \n2      {\\n    \"vdaemon_verify_peer_bidcert[552]\": {\\n...  Debug  \n3      {\\n    \"vbond_peer_delete[1768]\": {\\n        \"...  Debug  \n6      {\\n    \"message\": {\\n        \"message\": \"RTM_D...  Debug  \n...                                                  ...    ...  \n45518  {\\n    \"trap_cleanup_2\": {\\n        \"message\":...  Debug  \n45520  {\\n    \"vbond_handshake_event_cb[6771]\": {\\n  ...  Debug  \n45521  {\\n    \"vdaemon_find_vedge_in_vedge_list[181]\"...  Debug  \n45522  {\\n    \"vdaemon_verify_peer_bidcert[552]\": {\\n...  Debug  \n45523  {\\n    \"vbond_peer_delete[1768]\": {\\n        \"...  Debug  \n\n[31715 rows x 8 columns]",
      "text/html": "<div>\n<style scoped>\n    .dataframe tbody tr th:only-of-type {\n        vertical-align: middle;\n    }\n\n    .dataframe tbody tr th {\n        vertical-align: top;\n    }\n\n    .dataframe thead th {\n        text-align: right;\n    }\n</style>\n<table border=\"1\" class=\"dataframe\">\n  <thead>\n    <tr style=\"text-align: right;\">\n      <th></th>\n      <th>index</th>\n      <th>log_level</th>\n      <th>timestamp</th>\n      <th>device</th>\n      <th>component</th>\n      <th>log_message</th>\n      <th>json</th>\n      <th>label</th>\n    </tr>\n  </thead>\n  <tbody>\n    <tr>\n      <th>0</th>\n      <td>0</td>\n      <td>local7.debug</td>\n      <td>Apr  3 04:22:28</td>\n      <td>e13sinjuk-swps900100</td>\n      <td>VBOND[2437]</td>\n      <td>vbond_handshake_event_cb[6771]: %VDAEMON_DBG_M...</td>\n      <td>{\\n    \"vbond_handshake_event_cb[6771]\": {\\n  ...</td>\n      <td>Debug</td>\n    </tr>\n    <tr>\n      <th>1</th>\n      <td>1</td>\n      <td>local7.debug</td>\n      <td>Apr  3 04:22:30</td>\n      <td>e13sinjuk-swps900100</td>\n      <td>VBOND[2437]</td>\n      <td>vdaemon_find_vedge_in_vedge_list[181]: %VDAEMO...</td>\n      <td>{\\n    \"vdaemon_find_vedge_in_vedge_list[181]\"...</td>\n      <td>Debug</td>\n    </tr>\n    <tr>\n      <th>2</th>\n      <td>2</td>\n      <td>local7.debug</td>\n      <td>Apr  3 04:22:30</td>\n      <td>e13sinjuk-swps900100</td>\n      <td>VBOND[2437]</td>\n      <td>vdaemon_verify_peer_bidcert[552]: %VDAEMON_DBG...</td>\n      <td>{\\n    \"vdaemon_verify_peer_bidcert[552]\": {\\n...</td>\n      <td>Debug</td>\n    </tr>\n    <tr>\n      <th>3</th>\n      <td>3</td>\n      <td>local7.debug</td>\n      <td>Apr  3 04:22:30</td>\n      <td>e13sinjuk-swps900100</td>\n      <td>VBOND[2437]</td>\n      <td>vbond_peer_delete[1768]: %VDAEMON_DBG_ERROR-1:...</td>\n      <td>{\\n    \"vbond_peer_delete[1768]\": {\\n        \"...</td>\n      <td>Debug</td>\n    </tr>\n    <tr>\n      <th>6</th>\n      <td>6</td>\n      <td>local7.debug</td>\n      <td>Apr  3 04:23:05</td>\n      <td>e13sinjuk-swps900100</td>\n      <td>ZEBRA[1237]</td>\n      <td>RTM_DELROUTE ipv6 unicast proto</td>\n      <td>{\\n    \"message\": {\\n        \"message\": \"RTM_D...</td>\n      <td>Debug</td>\n    </tr>\n    <tr>\n      <th>...</th>\n      <td>...</td>\n      <td>...</td>\n      <td>...</td>\n      <td>...</td>\n      <td>...</td>\n      <td>...</td>\n      <td>...</td>\n      <td>...</td>\n    </tr>\n    <tr>\n      <th>45518</th>\n      <td>45518</td>\n      <td>local7.debug</td>\n      <td>Apr  5 17:13:20</td>\n      <td>e13sinjuk-swps900100</td>\n      <td>sw</td>\n      <td>trap_cleanup_2: Cleaning up umask</td>\n      <td>{\\n    \"trap_cleanup_2\": {\\n        \"message\":...</td>\n      <td>Debug</td>\n    </tr>\n    <tr>\n      <th>45520</th>\n      <td>45520</td>\n      <td>local7.debug</td>\n      <td>Apr  5 17:13:41</td>\n      <td>e13sinjuk-swps900100</td>\n      <td>VBOND[2410]</td>\n      <td>vbond_handshake_event_cb[6771]: %VDAEMON_DBG_M...</td>\n      <td>{\\n    \"vbond_handshake_event_cb[6771]\": {\\n  ...</td>\n      <td>Debug</td>\n    </tr>\n    <tr>\n      <th>45521</th>\n      <td>45521</td>\n      <td>local7.debug</td>\n      <td>Apr  5 17:13:43</td>\n      <td>e13sinjuk-swps900100</td>\n      <td>VBOND[2410]</td>\n      <td>vdaemon_find_vedge_in_vedge_list[181]: %VDAEMO...</td>\n      <td>{\\n    \"vdaemon_find_vedge_in_vedge_list[181]\"...</td>\n      <td>Debug</td>\n    </tr>\n    <tr>\n      <th>45522</th>\n      <td>45522</td>\n      <td>local7.debug</td>\n      <td>Apr  5 17:13:43</td>\n      <td>e13sinjuk-swps900100</td>\n      <td>VBOND[2410]</td>\n      <td>vdaemon_verify_peer_bidcert[552]: %VDAEMON_DBG...</td>\n      <td>{\\n    \"vdaemon_verify_peer_bidcert[552]\": {\\n...</td>\n      <td>Debug</td>\n    </tr>\n    <tr>\n      <th>45523</th>\n      <td>45523</td>\n      <td>local7.debug</td>\n      <td>Apr  5 17:13:43</td>\n      <td>e13sinjuk-swps900100</td>\n      <td>VBOND[2410]</td>\n      <td>vbond_peer_delete[1768]: %VDAEMON_DBG_ERROR-1:...</td>\n      <td>{\\n    \"vbond_peer_delete[1768]\": {\\n        \"...</td>\n      <td>Debug</td>\n    </tr>\n  </tbody>\n</table>\n<p>31715 rows × 8 columns</p>\n</div>"
     },
     "execution_count": 9,
     "metadata": {},
     "output_type": "execute_result"
    }
   ],
   "source": [
    "df_vhigh = df[df['label'] == 'Debug']\n",
    "df_high = df[df['label'] == 'High Critical']\n",
    "df_medium = df[df['label'] == 'Info']\n",
    "df_low = df[df['label'] == 'Notice']\n",
    "\n",
    "df_none = df[df['label'] == 'Warning']\n",
    "df_vhigh"
   ],
   "metadata": {
    "collapsed": false,
    "ExecuteTime": {
     "start_time": "2023-04-27T18:36:25.107192Z",
     "end_time": "2023-04-27T18:36:25.161927Z"
    }
   }
  },
  {
   "cell_type": "code",
   "execution_count": 10,
   "outputs": [
    {
     "data": {
      "text/plain": "(31715, 8)"
     },
     "execution_count": 10,
     "metadata": {},
     "output_type": "execute_result"
    }
   ],
   "source": [
    "df_vhigh.shape"
   ],
   "metadata": {
    "collapsed": false,
    "ExecuteTime": {
     "start_time": "2023-04-27T18:37:14.436855Z",
     "end_time": "2023-04-27T18:37:14.442134Z"
    }
   }
  },
  {
   "cell_type": "code",
   "execution_count": 21,
   "outputs": [
    {
     "name": "stdout",
     "output_type": "stream",
     "text": [
      "       index    log_level         timestamp                device   \n",
      "15390  15390  local7.info   Apr  4 04:28:36  e13sinjuk-swps900100  \\\n",
      "34940  34940  local7.info   Apr  5 09:08:34  e13sinjuk-swps900100   \n",
      "6960    6960  local7.info   Apr  3 16:07:08  e13sinjuk-swps900100   \n",
      "7845    7845  local7.info   Apr  3 17:25:19  e13sinjuk-swps900100   \n",
      "13562  13562  local7.info   Apr  4 01:47:23  e13sinjuk-swps900100   \n",
      "10831  10831  local7.info   Apr  3 21:47:37  e13sinjuk-swps900100   \n",
      "670      670  local7.info   Apr  3 05:34:14  e13sinjuk-swps900100   \n",
      "20901  20901  local7.info   Apr  4 12:32:59  e13sinjuk-swps900100   \n",
      "30981  30981  local7.info   Apr  5 03:20:30  e13sinjuk-swps900100   \n",
      "2800    2800  local7.info   Apr  3 09:23:18  e13sinjuk-swps900100   \n",
      "22215  22215  local7.info   Apr  4 14:28:20  e13sinjuk-swps900100   \n",
      "16736  16736  local7.info   Apr  4 06:26:32  e13sinjuk-swps900100   \n",
      "23480  23480  local7.info   Apr  4 16:20:26  e13sinjuk-swps900100   \n",
      "4069    4069  local7.info   Apr  3 11:39:38  e13sinjuk-swps900100   \n",
      "25997  25997  local7.info   Apr  4 20:01:46  e13sinjuk-swps900100   \n",
      "12667  12667  local7.info   Apr  4 00:28:50  e13sinjuk-swps900100   \n",
      "35525  35525  local7.info   Apr  5 09:59:18  e13sinjuk-swps900100   \n",
      "30840  30840  local7.info   Apr  5 03:08:14  e13sinjuk-swps900100   \n",
      "38062  38062  local7.info   Apr  5 13:41:02  e13sinjuk-swps900100   \n",
      "23276  23276  local7.info   Apr  4 16:02:21  e13sinjuk-swps900100   \n",
      "14293  14293  local7.info   Apr  4 02:51:41  e13sinjuk-swps900100   \n",
      "15290  15290  local7.info   Apr  4 04:19:34  e13sinjuk-swps900100   \n",
      "11815  11815  local7.info   Apr  3 23:14:13  e13sinjuk-swps900100   \n",
      "5950    5950  local7.info   Apr  3 14:38:57  e13sinjuk-swps900100   \n",
      "36030  36030  local7.info   Apr  5 10:43:34  e13sinjuk-swps900100   \n",
      "10207  10207  local7.info   Apr  3 20:52:42  e13sinjuk-swps900100   \n",
      "19644  19644  local7.info   Apr  4 10:42:05  e13sinjuk-swps900100   \n",
      "1251    1251  local7.info   Apr  3 06:36:35  e13sinjuk-swps900100   \n",
      "36073  36073  local7.info   Apr  5 10:47:26  e13sinjuk-swps900100   \n",
      "35787  35787  local7.info   Apr  5 10:22:34  e13sinjuk-swps900100   \n",
      "28439  28439  local7.info   Apr  4 23:36:36  e13sinjuk-swps900100   \n",
      "3822    3822  local7.info   Apr  3 11:13:28  e13sinjuk-swps900100   \n",
      "20886  20886  local7.info   Apr  4 12:32:01  e13sinjuk-swps900100   \n",
      "26246  26246  local7.info   Apr  4 20:23:24  e13sinjuk-swps900100   \n",
      "31490  31490  local7.info   Apr  5 04:05:25  e13sinjuk-swps900100   \n",
      "4982    4982  local7.info   Apr  3 13:13:39  e13sinjuk-swps900100   \n",
      "28028  28028  local7.info   Apr  4 23:00:24  e13sinjuk-swps900100   \n",
      "1398    1398  local7.info   Apr  3 06:52:25  e13sinjuk-swps900100   \n",
      "\n",
      "         component                                        log_message   \n",
      "15390  VBOND[2437]  %Viptela-e13sinjuk-swps900100-vbond_0-6-INFO-1...  \\\n",
      "34940  VBOND[2437]  %Viptela-e13sinjuk-swps900100-vbond_0-6-INFO-1...   \n",
      "6960   VBOND[2437]  %Viptela-e13sinjuk-swps900100-vbond_0-6-INFO-1...   \n",
      "7845   VBOND[2437]  %Viptela-e13sinjuk-swps900100-vbond_0-6-INFO-1...   \n",
      "13562  VBOND[2437]  %Viptela-e13sinjuk-swps900100-vbond_0-6-INFO-1...   \n",
      "10831  VBOND[2437]  %Viptela-e13sinjuk-swps900100-vbond_0-6-INFO-1...   \n",
      "670    VBOND[2437]  %Viptela-e13sinjuk-swps900100-vbond_0-6-INFO-1...   \n",
      "20901  VBOND[2437]  %Viptela-e13sinjuk-swps900100-vbond_0-6-INFO-1...   \n",
      "30981  VBOND[2437]  %Viptela-e13sinjuk-swps900100-vbond_0-6-INFO-1...   \n",
      "2800   VBOND[2437]  %Viptela-e13sinjuk-swps900100-vbond_0-6-INFO-1...   \n",
      "22215  VBOND[2437]  %Viptela-e13sinjuk-swps900100-vbond_0-6-INFO-1...   \n",
      "16736  VBOND[2437]  %Viptela-e13sinjuk-swps900100-vbond_0-6-INFO-1...   \n",
      "23480  VBOND[2437]  %Viptela-e13sinjuk-swps900100-vbond_0-6-INFO-1...   \n",
      "4069   VBOND[2437]  %Viptela-e13sinjuk-swps900100-vbond_0-6-INFO-1...   \n",
      "25997  VBOND[2437]  %Viptela-e13sinjuk-swps900100-vbond_0-6-INFO-1...   \n",
      "12667  VBOND[2437]  %Viptela-e13sinjuk-swps900100-vbond_0-6-INFO-1...   \n",
      "35525  VBOND[2437]  %Viptela-e13sinjuk-swps900100-vbond_0-6-INFO-1...   \n",
      "30840  VBOND[2437]  %Viptela-e13sinjuk-swps900100-vbond_0-6-INFO-1...   \n",
      "38062  VBOND[2437]  %Viptela-e13sinjuk-swps900100-vbond_0-6-INFO-1...   \n",
      "23276  VBOND[2437]  %Viptela-e13sinjuk-swps900100-vbond_0-6-INFO-1...   \n",
      "14293  VBOND[2437]  %Viptela-e13sinjuk-swps900100-vbond_0-6-INFO-1...   \n",
      "15290  VBOND[2437]  %Viptela-e13sinjuk-swps900100-vbond_0-6-INFO-1...   \n",
      "11815  VBOND[2437]  %Viptela-e13sinjuk-swps900100-vbond_0-6-INFO-1...   \n",
      "5950   VBOND[2437]  %Viptela-e13sinjuk-swps900100-vbond_0-6-INFO-1...   \n",
      "36030  VBOND[2437]  %Viptela-e13sinjuk-swps900100-vbond_0-6-INFO-1...   \n",
      "10207  VBOND[2437]  %Viptela-e13sinjuk-swps900100-vbond_0-6-INFO-1...   \n",
      "19644  VBOND[2437]  %Viptela-e13sinjuk-swps900100-vbond_0-6-INFO-1...   \n",
      "1251   VBOND[2437]  %Viptela-e13sinjuk-swps900100-vbond_0-6-INFO-1...   \n",
      "36073  VBOND[2437]  %Viptela-e13sinjuk-swps900100-vbond_0-6-INFO-1...   \n",
      "35787  VBOND[2437]  %Viptela-e13sinjuk-swps900100-vbond_0-6-INFO-1...   \n",
      "28439  VBOND[2437]  %Viptela-e13sinjuk-swps900100-vbond_0-6-INFO-1...   \n",
      "3822   VBOND[2437]  %Viptela-e13sinjuk-swps900100-vbond_0-6-INFO-1...   \n",
      "20886  VBOND[2437]  %Viptela-e13sinjuk-swps900100-vbond_0-6-INFO-1...   \n",
      "26246  VBOND[2437]  %Viptela-e13sinjuk-swps900100-vbond_0-6-INFO-1...   \n",
      "31490  VBOND[2437]  %Viptela-e13sinjuk-swps900100-vbond_0-6-INFO-1...   \n",
      "4982   VBOND[2437]  %Viptela-e13sinjuk-swps900100-vbond_0-6-INFO-1...   \n",
      "28028  VBOND[2437]  %Viptela-e13sinjuk-swps900100-vbond_0-6-INFO-1...   \n",
      "1398   VBOND[2437]  %Viptela-e13sinjuk-swps900100-vbond_0-6-INFO-1...   \n",
      "\n",
      "                                                    json label  \n",
      "15390  {\\n    \"%Viptela-e13sinjuk-swps900100-vbond_0-...  Info  \n",
      "34940  {\\n    \"%Viptela-e13sinjuk-swps900100-vbond_0-...  Info  \n",
      "6960   {\\n    \"%Viptela-e13sinjuk-swps900100-vbond_0-...  Info  \n",
      "7845   {\\n    \"%Viptela-e13sinjuk-swps900100-vbond_0-...  Info  \n",
      "13562  {\\n    \"%Viptela-e13sinjuk-swps900100-vbond_0-...  Info  \n",
      "10831  {\\n    \"%Viptela-e13sinjuk-swps900100-vbond_0-...  Info  \n",
      "670    {\\n    \"%Viptela-e13sinjuk-swps900100-vbond_0-...  Info  \n",
      "20901  {\\n    \"%Viptela-e13sinjuk-swps900100-vbond_0-...  Info  \n",
      "30981  {\\n    \"%Viptela-e13sinjuk-swps900100-vbond_0-...  Info  \n",
      "2800   {\\n    \"%Viptela-e13sinjuk-swps900100-vbond_0-...  Info  \n",
      "22215  {\\n    \"%Viptela-e13sinjuk-swps900100-vbond_0-...  Info  \n",
      "16736  {\\n    \"%Viptela-e13sinjuk-swps900100-vbond_0-...  Info  \n",
      "23480  {\\n    \"%Viptela-e13sinjuk-swps900100-vbond_0-...  Info  \n",
      "4069   {\\n    \"%Viptela-e13sinjuk-swps900100-vbond_0-...  Info  \n",
      "25997  {\\n    \"%Viptela-e13sinjuk-swps900100-vbond_0-...  Info  \n",
      "12667  {\\n    \"%Viptela-e13sinjuk-swps900100-vbond_0-...  Info  \n",
      "35525  {\\n    \"%Viptela-e13sinjuk-swps900100-vbond_0-...  Info  \n",
      "30840  {\\n    \"%Viptela-e13sinjuk-swps900100-vbond_0-...  Info  \n",
      "38062  {\\n    \"%Viptela-e13sinjuk-swps900100-vbond_0-...  Info  \n",
      "23276  {\\n    \"%Viptela-e13sinjuk-swps900100-vbond_0-...  Info  \n",
      "14293  {\\n    \"%Viptela-e13sinjuk-swps900100-vbond_0-...  Info  \n",
      "15290  {\\n    \"%Viptela-e13sinjuk-swps900100-vbond_0-...  Info  \n",
      "11815  {\\n    \"%Viptela-e13sinjuk-swps900100-vbond_0-...  Info  \n",
      "5950   {\\n    \"%Viptela-e13sinjuk-swps900100-vbond_0-...  Info  \n",
      "36030  {\\n    \"%Viptela-e13sinjuk-swps900100-vbond_0-...  Info  \n",
      "10207  {\\n    \"%Viptela-e13sinjuk-swps900100-vbond_0-...  Info  \n",
      "19644  {\\n    \"%Viptela-e13sinjuk-swps900100-vbond_0-...  Info  \n",
      "1251   {\\n    \"%Viptela-e13sinjuk-swps900100-vbond_0-...  Info  \n",
      "36073  {\\n    \"%Viptela-e13sinjuk-swps900100-vbond_0-...  Info  \n",
      "35787  {\\n    \"%Viptela-e13sinjuk-swps900100-vbond_0-...  Info  \n",
      "28439  {\\n    \"%Viptela-e13sinjuk-swps900100-vbond_0-...  Info  \n",
      "3822   {\\n    \"%Viptela-e13sinjuk-swps900100-vbond_0-...  Info  \n",
      "20886  {\\n    \"%Viptela-e13sinjuk-swps900100-vbond_0-...  Info  \n",
      "26246  {\\n    \"%Viptela-e13sinjuk-swps900100-vbond_0-...  Info  \n",
      "31490  {\\n    \"%Viptela-e13sinjuk-swps900100-vbond_0-...  Info  \n",
      "4982   {\\n    \"%Viptela-e13sinjuk-swps900100-vbond_0-...  Info  \n",
      "28028  {\\n    \"%Viptela-e13sinjuk-swps900100-vbond_0-...  Info  \n",
      "1398   {\\n    \"%Viptela-e13sinjuk-swps900100-vbond_0-...  Info  \n",
      "(38, 8)\n"
     ]
    }
   ],
   "source": [
    "df_medium_downsampled= df_medium.sample(df_high.shape[0])\n",
    "print(df_medium_downsampled)\n",
    "\n",
    "\n",
    "df_vhigh_downsampled= df_vhigh.sample(df_high.shape[0])\n",
    "print(df_vhigh_downsampled.shape)"
   ],
   "metadata": {
    "collapsed": false,
    "ExecuteTime": {
     "start_time": "2023-04-27T18:41:22.739328Z",
     "end_time": "2023-04-27T18:41:22.761355Z"
    }
   }
  },
  {
   "cell_type": "code",
   "execution_count": 37,
   "outputs": [
    {
     "data": {
      "text/plain": "176        Debug\n14916      Debug\n2671       Debug\n20721      Debug\n6061       Debug\n          ...   \n43710     Notice\n44084     Notice\n44189     Notice\n41091    Warning\n43695    Warning\nName: label, Length: 148, dtype: object"
     },
     "execution_count": 37,
     "metadata": {},
     "output_type": "execute_result"
    }
   ],
   "source": [
    "df_balanced= pd.concat([df_vhigh_downsampled, df_high, df_medium_downsampled,df_low, df_none ])\n",
    "df_balanced.label"
   ],
   "metadata": {
    "collapsed": false,
    "ExecuteTime": {
     "start_time": "2023-04-27T19:13:25.852517Z",
     "end_time": "2023-04-27T19:13:25.891053Z"
    }
   }
  },
  {
   "cell_type": "code",
   "execution_count": 40,
   "outputs": [
    {
     "name": "stdout",
     "output_type": "stream",
     "text": [
      "176        Debug\n",
      "14916      Debug\n",
      "2671       Debug\n",
      "20721      Debug\n",
      "6061       Debug\n",
      "          ...   \n",
      "43710     Notice\n",
      "44084     Notice\n",
      "44189     Notice\n",
      "41091    Warning\n",
      "43695    Warning\n",
      "Name: label, Length: 148, dtype: object\n"
     ]
    },
    {
     "ename": "ValueError",
     "evalue": "Expected 2D array, got 1D array instead:\narray=['Debug' 'Debug' 'Debug' 'Debug' 'Debug' 'Debug' 'Debug' 'Debug' 'Debug'\n 'Debug' 'Debug' 'Debug' 'Debug' 'Debug' 'Debug' 'Debug' 'Debug' 'Debug'\n 'Debug' 'Debug' 'Debug' 'Debug' 'Debug' 'Debug' 'Debug' 'Debug' 'Debug'\n 'Debug' 'Debug' 'Debug' 'Debug' 'Debug' 'Debug' 'Debug' 'Debug' 'Debug'\n 'Debug' 'Debug' 'High Critical' 'High Critical' 'High Critical'\n 'High Critical' 'High Critical' 'High Critical' 'High Critical'\n 'High Critical' 'High Critical' 'High Critical' 'High Critical'\n 'High Critical' 'High Critical' 'High Critical' 'High Critical'\n 'High Critical' 'High Critical' 'High Critical' 'High Critical'\n 'High Critical' 'High Critical' 'High Critical' 'High Critical'\n 'High Critical' 'High Critical' 'High Critical' 'High Critical'\n 'High Critical' 'High Critical' 'High Critical' 'High Critical'\n 'High Critical' 'High Critical' 'High Critical' 'High Critical'\n 'High Critical' 'High Critical' 'High Critical' 'Info' 'Info' 'Info'\n 'Info' 'Info' 'Info' 'Info' 'Info' 'Info' 'Info' 'Info' 'Info' 'Info'\n 'Info' 'Info' 'Info' 'Info' 'Info' 'Info' 'Info' 'Info' 'Info' 'Info'\n 'Info' 'Info' 'Info' 'Info' 'Info' 'Info' 'Info' 'Info' 'Info' 'Info'\n 'Info' 'Info' 'Info' 'Info' 'Info' 'Notice' 'Notice' 'Notice' 'Notice'\n 'Notice' 'Notice' 'Notice' 'Notice' 'Notice' 'Notice' 'Notice' 'Notice'\n 'Notice' 'Notice' 'Notice' 'Notice' 'Notice' 'Notice' 'Notice' 'Notice'\n 'Notice' 'Notice' 'Notice' 'Notice' 'Notice' 'Notice' 'Notice' 'Notice'\n 'Notice' 'Notice' 'Notice' 'Notice' 'Warning' 'Warning'].\nReshape your data either using array.reshape(-1, 1) if your data has a single feature or array.reshape(1, -1) if it contains a single sample.",
     "output_type": "error",
     "traceback": [
      "\u001B[0;31m---------------------------------------------------------------------------\u001B[0m",
      "\u001B[0;31mValueError\u001B[0m                                Traceback (most recent call last)",
      "Cell \u001B[0;32mIn[40], line 7\u001B[0m\n\u001B[1;32m      4\u001B[0m oe \u001B[38;5;241m=\u001B[39m OneHotEncoder()\n\u001B[1;32m      5\u001B[0m \u001B[38;5;28mprint\u001B[39m(df_balanced[\u001B[38;5;124m'\u001B[39m\u001B[38;5;124mlabel\u001B[39m\u001B[38;5;124m'\u001B[39m])\n\u001B[0;32m----> 7\u001B[0m df_textEncoder\u001B[38;5;241m=\u001B[39m \u001B[43moe\u001B[49m\u001B[38;5;241;43m.\u001B[39;49m\u001B[43mfit_transform\u001B[49m\u001B[43m(\u001B[49m\u001B[43mdf_balanced\u001B[49m\u001B[43m[\u001B[49m\u001B[38;5;124;43m'\u001B[39;49m\u001B[38;5;124;43mlabel\u001B[39;49m\u001B[38;5;124;43m'\u001B[39;49m\u001B[43m]\u001B[49m\u001B[43m)\u001B[49m\n\u001B[1;32m      8\u001B[0m \u001B[38;5;28mprint\u001B[39m(\u001B[38;5;124m\"\u001B[39m\u001B[38;5;124mTransforming label\u001B[39m\u001B[38;5;124m\"\u001B[39m)\n\u001B[1;32m      9\u001B[0m \u001B[38;5;28mprint\u001B[39m(df_textEncoder)\n",
      "File \u001B[0;32m~/miniconda3/lib/python3.10/site-packages/sklearn/utils/_set_output.py:140\u001B[0m, in \u001B[0;36m_wrap_method_output.<locals>.wrapped\u001B[0;34m(self, X, *args, **kwargs)\u001B[0m\n\u001B[1;32m    138\u001B[0m \u001B[38;5;129m@wraps\u001B[39m(f)\n\u001B[1;32m    139\u001B[0m \u001B[38;5;28;01mdef\u001B[39;00m \u001B[38;5;21mwrapped\u001B[39m(\u001B[38;5;28mself\u001B[39m, X, \u001B[38;5;241m*\u001B[39margs, \u001B[38;5;241m*\u001B[39m\u001B[38;5;241m*\u001B[39mkwargs):\n\u001B[0;32m--> 140\u001B[0m     data_to_wrap \u001B[38;5;241m=\u001B[39m \u001B[43mf\u001B[49m\u001B[43m(\u001B[49m\u001B[38;5;28;43mself\u001B[39;49m\u001B[43m,\u001B[49m\u001B[43m \u001B[49m\u001B[43mX\u001B[49m\u001B[43m,\u001B[49m\u001B[43m \u001B[49m\u001B[38;5;241;43m*\u001B[39;49m\u001B[43margs\u001B[49m\u001B[43m,\u001B[49m\u001B[43m \u001B[49m\u001B[38;5;241;43m*\u001B[39;49m\u001B[38;5;241;43m*\u001B[39;49m\u001B[43mkwargs\u001B[49m\u001B[43m)\u001B[49m\n\u001B[1;32m    141\u001B[0m     \u001B[38;5;28;01mif\u001B[39;00m \u001B[38;5;28misinstance\u001B[39m(data_to_wrap, \u001B[38;5;28mtuple\u001B[39m):\n\u001B[1;32m    142\u001B[0m         \u001B[38;5;66;03m# only wrap the first output for cross decomposition\u001B[39;00m\n\u001B[1;32m    143\u001B[0m         \u001B[38;5;28;01mreturn\u001B[39;00m (\n\u001B[1;32m    144\u001B[0m             _wrap_data_with_container(method, data_to_wrap[\u001B[38;5;241m0\u001B[39m], X, \u001B[38;5;28mself\u001B[39m),\n\u001B[1;32m    145\u001B[0m             \u001B[38;5;241m*\u001B[39mdata_to_wrap[\u001B[38;5;241m1\u001B[39m:],\n\u001B[1;32m    146\u001B[0m         )\n",
      "File \u001B[0;32m~/miniconda3/lib/python3.10/site-packages/sklearn/base.py:878\u001B[0m, in \u001B[0;36mTransformerMixin.fit_transform\u001B[0;34m(self, X, y, **fit_params)\u001B[0m\n\u001B[1;32m    874\u001B[0m \u001B[38;5;66;03m# non-optimized default implementation; override when a better\u001B[39;00m\n\u001B[1;32m    875\u001B[0m \u001B[38;5;66;03m# method is possible for a given clustering algorithm\u001B[39;00m\n\u001B[1;32m    876\u001B[0m \u001B[38;5;28;01mif\u001B[39;00m y \u001B[38;5;129;01mis\u001B[39;00m \u001B[38;5;28;01mNone\u001B[39;00m:\n\u001B[1;32m    877\u001B[0m     \u001B[38;5;66;03m# fit method of arity 1 (unsupervised transformation)\u001B[39;00m\n\u001B[0;32m--> 878\u001B[0m     \u001B[38;5;28;01mreturn\u001B[39;00m \u001B[38;5;28;43mself\u001B[39;49m\u001B[38;5;241;43m.\u001B[39;49m\u001B[43mfit\u001B[49m\u001B[43m(\u001B[49m\u001B[43mX\u001B[49m\u001B[43m,\u001B[49m\u001B[43m \u001B[49m\u001B[38;5;241;43m*\u001B[39;49m\u001B[38;5;241;43m*\u001B[39;49m\u001B[43mfit_params\u001B[49m\u001B[43m)\u001B[49m\u001B[38;5;241m.\u001B[39mtransform(X)\n\u001B[1;32m    879\u001B[0m \u001B[38;5;28;01melse\u001B[39;00m:\n\u001B[1;32m    880\u001B[0m     \u001B[38;5;66;03m# fit method of arity 2 (supervised transformation)\u001B[39;00m\n\u001B[1;32m    881\u001B[0m     \u001B[38;5;28;01mreturn\u001B[39;00m \u001B[38;5;28mself\u001B[39m\u001B[38;5;241m.\u001B[39mfit(X, y, \u001B[38;5;241m*\u001B[39m\u001B[38;5;241m*\u001B[39mfit_params)\u001B[38;5;241m.\u001B[39mtransform(X)\n",
      "File \u001B[0;32m~/miniconda3/lib/python3.10/site-packages/sklearn/preprocessing/_encoders.py:878\u001B[0m, in \u001B[0;36mOneHotEncoder.fit\u001B[0;34m(self, X, y)\u001B[0m\n\u001B[1;32m    874\u001B[0m     \u001B[38;5;28mself\u001B[39m\u001B[38;5;241m.\u001B[39msparse_output \u001B[38;5;241m=\u001B[39m \u001B[38;5;28mself\u001B[39m\u001B[38;5;241m.\u001B[39msparse\n\u001B[1;32m    876\u001B[0m \u001B[38;5;28mself\u001B[39m\u001B[38;5;241m.\u001B[39m_check_infrequent_enabled()\n\u001B[0;32m--> 878\u001B[0m fit_results \u001B[38;5;241m=\u001B[39m \u001B[38;5;28;43mself\u001B[39;49m\u001B[38;5;241;43m.\u001B[39;49m\u001B[43m_fit\u001B[49m\u001B[43m(\u001B[49m\n\u001B[1;32m    879\u001B[0m \u001B[43m    \u001B[49m\u001B[43mX\u001B[49m\u001B[43m,\u001B[49m\n\u001B[1;32m    880\u001B[0m \u001B[43m    \u001B[49m\u001B[43mhandle_unknown\u001B[49m\u001B[38;5;241;43m=\u001B[39;49m\u001B[38;5;28;43mself\u001B[39;49m\u001B[38;5;241;43m.\u001B[39;49m\u001B[43mhandle_unknown\u001B[49m\u001B[43m,\u001B[49m\n\u001B[1;32m    881\u001B[0m \u001B[43m    \u001B[49m\u001B[43mforce_all_finite\u001B[49m\u001B[38;5;241;43m=\u001B[39;49m\u001B[38;5;124;43m\"\u001B[39;49m\u001B[38;5;124;43mallow-nan\u001B[39;49m\u001B[38;5;124;43m\"\u001B[39;49m\u001B[43m,\u001B[49m\n\u001B[1;32m    882\u001B[0m \u001B[43m    \u001B[49m\u001B[43mreturn_counts\u001B[49m\u001B[38;5;241;43m=\u001B[39;49m\u001B[38;5;28;43mself\u001B[39;49m\u001B[38;5;241;43m.\u001B[39;49m\u001B[43m_infrequent_enabled\u001B[49m\u001B[43m,\u001B[49m\n\u001B[1;32m    883\u001B[0m \u001B[43m\u001B[49m\u001B[43m)\u001B[49m\n\u001B[1;32m    884\u001B[0m \u001B[38;5;28;01mif\u001B[39;00m \u001B[38;5;28mself\u001B[39m\u001B[38;5;241m.\u001B[39m_infrequent_enabled:\n\u001B[1;32m    885\u001B[0m     \u001B[38;5;28mself\u001B[39m\u001B[38;5;241m.\u001B[39m_fit_infrequent_category_mapping(\n\u001B[1;32m    886\u001B[0m         fit_results[\u001B[38;5;124m\"\u001B[39m\u001B[38;5;124mn_samples\u001B[39m\u001B[38;5;124m\"\u001B[39m], fit_results[\u001B[38;5;124m\"\u001B[39m\u001B[38;5;124mcategory_counts\u001B[39m\u001B[38;5;124m\"\u001B[39m]\n\u001B[1;32m    887\u001B[0m     )\n",
      "File \u001B[0;32m~/miniconda3/lib/python3.10/site-packages/sklearn/preprocessing/_encoders.py:74\u001B[0m, in \u001B[0;36m_BaseEncoder._fit\u001B[0;34m(self, X, handle_unknown, force_all_finite, return_counts)\u001B[0m\n\u001B[1;32m     72\u001B[0m \u001B[38;5;28mself\u001B[39m\u001B[38;5;241m.\u001B[39m_check_n_features(X, reset\u001B[38;5;241m=\u001B[39m\u001B[38;5;28;01mTrue\u001B[39;00m)\n\u001B[1;32m     73\u001B[0m \u001B[38;5;28mself\u001B[39m\u001B[38;5;241m.\u001B[39m_check_feature_names(X, reset\u001B[38;5;241m=\u001B[39m\u001B[38;5;28;01mTrue\u001B[39;00m)\n\u001B[0;32m---> 74\u001B[0m X_list, n_samples, n_features \u001B[38;5;241m=\u001B[39m \u001B[38;5;28;43mself\u001B[39;49m\u001B[38;5;241;43m.\u001B[39;49m\u001B[43m_check_X\u001B[49m\u001B[43m(\u001B[49m\n\u001B[1;32m     75\u001B[0m \u001B[43m    \u001B[49m\u001B[43mX\u001B[49m\u001B[43m,\u001B[49m\u001B[43m \u001B[49m\u001B[43mforce_all_finite\u001B[49m\u001B[38;5;241;43m=\u001B[39;49m\u001B[43mforce_all_finite\u001B[49m\n\u001B[1;32m     76\u001B[0m \u001B[43m\u001B[49m\u001B[43m)\u001B[49m\n\u001B[1;32m     77\u001B[0m \u001B[38;5;28mself\u001B[39m\u001B[38;5;241m.\u001B[39mn_features_in_ \u001B[38;5;241m=\u001B[39m n_features\n\u001B[1;32m     79\u001B[0m \u001B[38;5;28;01mif\u001B[39;00m \u001B[38;5;28mself\u001B[39m\u001B[38;5;241m.\u001B[39mcategories \u001B[38;5;241m!=\u001B[39m \u001B[38;5;124m\"\u001B[39m\u001B[38;5;124mauto\u001B[39m\u001B[38;5;124m\"\u001B[39m:\n",
      "File \u001B[0;32m~/miniconda3/lib/python3.10/site-packages/sklearn/preprocessing/_encoders.py:46\u001B[0m, in \u001B[0;36m_BaseEncoder._check_X\u001B[0;34m(self, X, force_all_finite)\u001B[0m\n\u001B[1;32m     33\u001B[0m \u001B[38;5;124;03m\"\"\"\u001B[39;00m\n\u001B[1;32m     34\u001B[0m \u001B[38;5;124;03mPerform custom check_array:\u001B[39;00m\n\u001B[1;32m     35\u001B[0m \u001B[38;5;124;03m- convert list of strings to object dtype\u001B[39;00m\n\u001B[0;32m   (...)\u001B[0m\n\u001B[1;32m     42\u001B[0m \n\u001B[1;32m     43\u001B[0m \u001B[38;5;124;03m\"\"\"\u001B[39;00m\n\u001B[1;32m     44\u001B[0m \u001B[38;5;28;01mif\u001B[39;00m \u001B[38;5;129;01mnot\u001B[39;00m (\u001B[38;5;28mhasattr\u001B[39m(X, \u001B[38;5;124m\"\u001B[39m\u001B[38;5;124miloc\u001B[39m\u001B[38;5;124m\"\u001B[39m) \u001B[38;5;129;01mand\u001B[39;00m \u001B[38;5;28mgetattr\u001B[39m(X, \u001B[38;5;124m\"\u001B[39m\u001B[38;5;124mndim\u001B[39m\u001B[38;5;124m\"\u001B[39m, \u001B[38;5;241m0\u001B[39m) \u001B[38;5;241m==\u001B[39m \u001B[38;5;241m2\u001B[39m):\n\u001B[1;32m     45\u001B[0m     \u001B[38;5;66;03m# if not a dataframe, do normal check_array validation\u001B[39;00m\n\u001B[0;32m---> 46\u001B[0m     X_temp \u001B[38;5;241m=\u001B[39m \u001B[43mcheck_array\u001B[49m\u001B[43m(\u001B[49m\u001B[43mX\u001B[49m\u001B[43m,\u001B[49m\u001B[43m \u001B[49m\u001B[43mdtype\u001B[49m\u001B[38;5;241;43m=\u001B[39;49m\u001B[38;5;28;43;01mNone\u001B[39;49;00m\u001B[43m,\u001B[49m\u001B[43m \u001B[49m\u001B[43mforce_all_finite\u001B[49m\u001B[38;5;241;43m=\u001B[39;49m\u001B[43mforce_all_finite\u001B[49m\u001B[43m)\u001B[49m\n\u001B[1;32m     47\u001B[0m     \u001B[38;5;28;01mif\u001B[39;00m \u001B[38;5;129;01mnot\u001B[39;00m \u001B[38;5;28mhasattr\u001B[39m(X, \u001B[38;5;124m\"\u001B[39m\u001B[38;5;124mdtype\u001B[39m\u001B[38;5;124m\"\u001B[39m) \u001B[38;5;129;01mand\u001B[39;00m np\u001B[38;5;241m.\u001B[39missubdtype(X_temp\u001B[38;5;241m.\u001B[39mdtype, np\u001B[38;5;241m.\u001B[39mstr_):\n\u001B[1;32m     48\u001B[0m         X \u001B[38;5;241m=\u001B[39m check_array(X, dtype\u001B[38;5;241m=\u001B[39m\u001B[38;5;28mobject\u001B[39m, force_all_finite\u001B[38;5;241m=\u001B[39mforce_all_finite)\n",
      "File \u001B[0;32m~/miniconda3/lib/python3.10/site-packages/sklearn/utils/validation.py:902\u001B[0m, in \u001B[0;36mcheck_array\u001B[0;34m(array, accept_sparse, accept_large_sparse, dtype, order, copy, force_all_finite, ensure_2d, allow_nd, ensure_min_samples, ensure_min_features, estimator, input_name)\u001B[0m\n\u001B[1;32m    900\u001B[0m     \u001B[38;5;66;03m# If input is 1D raise error\u001B[39;00m\n\u001B[1;32m    901\u001B[0m     \u001B[38;5;28;01mif\u001B[39;00m array\u001B[38;5;241m.\u001B[39mndim \u001B[38;5;241m==\u001B[39m \u001B[38;5;241m1\u001B[39m:\n\u001B[0;32m--> 902\u001B[0m         \u001B[38;5;28;01mraise\u001B[39;00m \u001B[38;5;167;01mValueError\u001B[39;00m(\n\u001B[1;32m    903\u001B[0m             \u001B[38;5;124m\"\u001B[39m\u001B[38;5;124mExpected 2D array, got 1D array instead:\u001B[39m\u001B[38;5;130;01m\\n\u001B[39;00m\u001B[38;5;124marray=\u001B[39m\u001B[38;5;132;01m{}\u001B[39;00m\u001B[38;5;124m.\u001B[39m\u001B[38;5;130;01m\\n\u001B[39;00m\u001B[38;5;124m\"\u001B[39m\n\u001B[1;32m    904\u001B[0m             \u001B[38;5;124m\"\u001B[39m\u001B[38;5;124mReshape your data either using array.reshape(-1, 1) if \u001B[39m\u001B[38;5;124m\"\u001B[39m\n\u001B[1;32m    905\u001B[0m             \u001B[38;5;124m\"\u001B[39m\u001B[38;5;124myour data has a single feature or array.reshape(1, -1) \u001B[39m\u001B[38;5;124m\"\u001B[39m\n\u001B[1;32m    906\u001B[0m             \u001B[38;5;124m\"\u001B[39m\u001B[38;5;124mif it contains a single sample.\u001B[39m\u001B[38;5;124m\"\u001B[39m\u001B[38;5;241m.\u001B[39mformat(array)\n\u001B[1;32m    907\u001B[0m         )\n\u001B[1;32m    909\u001B[0m \u001B[38;5;28;01mif\u001B[39;00m dtype_numeric \u001B[38;5;129;01mand\u001B[39;00m array\u001B[38;5;241m.\u001B[39mdtype\u001B[38;5;241m.\u001B[39mkind \u001B[38;5;129;01min\u001B[39;00m \u001B[38;5;124m\"\u001B[39m\u001B[38;5;124mUSV\u001B[39m\u001B[38;5;124m\"\u001B[39m:\n\u001B[1;32m    910\u001B[0m     \u001B[38;5;28;01mraise\u001B[39;00m \u001B[38;5;167;01mValueError\u001B[39;00m(\n\u001B[1;32m    911\u001B[0m         \u001B[38;5;124m\"\u001B[39m\u001B[38;5;124mdtype=\u001B[39m\u001B[38;5;124m'\u001B[39m\u001B[38;5;124mnumeric\u001B[39m\u001B[38;5;124m'\u001B[39m\u001B[38;5;124m is not compatible with arrays of bytes/strings.\u001B[39m\u001B[38;5;124m\"\u001B[39m\n\u001B[1;32m    912\u001B[0m         \u001B[38;5;124m\"\u001B[39m\u001B[38;5;124mConvert your data to numeric values explicitly instead.\u001B[39m\u001B[38;5;124m\"\u001B[39m\n\u001B[1;32m    913\u001B[0m     )\n",
      "\u001B[0;31mValueError\u001B[0m: Expected 2D array, got 1D array instead:\narray=['Debug' 'Debug' 'Debug' 'Debug' 'Debug' 'Debug' 'Debug' 'Debug' 'Debug'\n 'Debug' 'Debug' 'Debug' 'Debug' 'Debug' 'Debug' 'Debug' 'Debug' 'Debug'\n 'Debug' 'Debug' 'Debug' 'Debug' 'Debug' 'Debug' 'Debug' 'Debug' 'Debug'\n 'Debug' 'Debug' 'Debug' 'Debug' 'Debug' 'Debug' 'Debug' 'Debug' 'Debug'\n 'Debug' 'Debug' 'High Critical' 'High Critical' 'High Critical'\n 'High Critical' 'High Critical' 'High Critical' 'High Critical'\n 'High Critical' 'High Critical' 'High Critical' 'High Critical'\n 'High Critical' 'High Critical' 'High Critical' 'High Critical'\n 'High Critical' 'High Critical' 'High Critical' 'High Critical'\n 'High Critical' 'High Critical' 'High Critical' 'High Critical'\n 'High Critical' 'High Critical' 'High Critical' 'High Critical'\n 'High Critical' 'High Critical' 'High Critical' 'High Critical'\n 'High Critical' 'High Critical' 'High Critical' 'High Critical'\n 'High Critical' 'High Critical' 'High Critical' 'Info' 'Info' 'Info'\n 'Info' 'Info' 'Info' 'Info' 'Info' 'Info' 'Info' 'Info' 'Info' 'Info'\n 'Info' 'Info' 'Info' 'Info' 'Info' 'Info' 'Info' 'Info' 'Info' 'Info'\n 'Info' 'Info' 'Info' 'Info' 'Info' 'Info' 'Info' 'Info' 'Info' 'Info'\n 'Info' 'Info' 'Info' 'Info' 'Info' 'Notice' 'Notice' 'Notice' 'Notice'\n 'Notice' 'Notice' 'Notice' 'Notice' 'Notice' 'Notice' 'Notice' 'Notice'\n 'Notice' 'Notice' 'Notice' 'Notice' 'Notice' 'Notice' 'Notice' 'Notice'\n 'Notice' 'Notice' 'Notice' 'Notice' 'Notice' 'Notice' 'Notice' 'Notice'\n 'Notice' 'Notice' 'Notice' 'Notice' 'Warning' 'Warning'].\nReshape your data either using array.reshape(-1, 1) if your data has a single feature or array.reshape(1, -1) if it contains a single sample."
     ]
    }
   ],
   "source": [
    "from sklearn.model_selection import train_test_split\n",
    "from sklearn.preprocessing import LabelEncoder, OneHotEncoder\n",
    "le = LabelEncoder()\n",
    "oe = OneHotEncoder()\n",
    "print(df_balanced['label'])\n",
    "\n",
    "df_textEncoder= oe.fit_transform(df_balanced['label'])\n",
    "print(\"Transforming label\")\n",
    "print(df_textEncoder)\n",
    "df_balanced_encoder = le.fit_transform(df_balanced['label'])\n",
    "\n",
    "print(df_balanced_encoder['label'])\n",
    "num_classes = len(df_balanced['label'].unique())\n",
    "print(num_classes)"
   ],
   "metadata": {
    "collapsed": false,
    "ExecuteTime": {
     "start_time": "2023-04-27T18:49:28.350241Z",
     "end_time": "2023-04-27T18:49:38.203056Z"
    }
   }
  },
  {
   "cell_type": "code",
   "execution_count": null,
   "outputs": [],
   "source": [],
   "metadata": {
    "collapsed": false
   }
  }
 ],
 "metadata": {
  "kernelspec": {
   "display_name": "Python 3",
   "language": "python",
   "name": "python3"
  },
  "language_info": {
   "codemirror_mode": {
    "name": "ipython",
    "version": 2
   },
   "file_extension": ".py",
   "mimetype": "text/x-python",
   "name": "python",
   "nbconvert_exporter": "python",
   "pygments_lexer": "ipython2",
   "version": "2.7.6"
  }
 },
 "nbformat": 4,
 "nbformat_minor": 0
}

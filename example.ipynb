{
 "cells": [
  {
   "cell_type": "code",
   "execution_count": 3,
   "id": "5d7f7eb6",
   "metadata": {},
   "outputs": [],
   "source": [
    "# write main\n",
    "import os"
   ]
  },
  {
   "cell_type": "code",
   "execution_count": 4,
   "id": "fdae594a",
   "metadata": {
    "ExecuteTime": {
     "end_time": "2023-05-08T13:13:23.509334Z",
     "start_time": "2023-05-08T13:13:23.501502Z"
    }
   },
   "outputs": [],
   "source": [
    "from LogModel import LogModel\n",
    "from datetime import datetime"
   ]
  },
  {
   "cell_type": "code",
   "execution_count": 6,
   "id": "cb32f8fb",
   "metadata": {
    "ExecuteTime": {
     "end_time": "2023-05-08T13:13:56.843349Z",
     "start_time": "2023-05-08T13:13:56.838005Z"
    }
   },
   "outputs": [],
   "source": [
    "from filter import split_string, calculateProbablityAndAssignValueToLogModel, counter, paseredCounter\n",
    "import csv"
   ]
  },
  {
   "cell_type": "code",
   "execution_count": null,
   "id": "eb8294b8",
   "metadata": {},
   "outputs": [],
   "source": [
    "def assignLabel(line, problematicTimeStamp):\n",
    "    # convert the timestamps to datetime objects\n",
    "    # convert the timestamps to datetime objects\n",
    "    timestamp1 = datetime.strptime(problematicTimeStamp, '%b %d %H:%M:%S')\n",
    "    timestamp2 = datetime.strptime(line.timestamp, ' %b  %d %H:%M:%S')\n",
    "\n",
    "    # check if the difference between the two timestamps is within 30 seconds\n",
    "    if abs((timestamp2 - timestamp1).total_seconds()) <= 30:\n",
    "       return \"High Critical\"\n",
    "\n",
    "    if( line.log_level==\"local7.debug\"):\n",
    "        return \"Debug\"\n",
    "\n",
    "    if (line.log_level == \"local7.info\"):\n",
    "        return \"Info\"\n",
    "\n",
    "    if(line.log_level ==\"local7.warn\"):\n",
    "        return \"Warning\"\n",
    "    if (line.log_level == \"local7.error\"):\n",
    "        return \"Critical\"\n",
    "    if(line.log_level == \"local7.notice\"):\n",
    "        return \"Notice\""
   ]
  },
  {
   "cell_type": "code",
   "execution_count": null,
   "id": "86633ad3",
   "metadata": {},
   "outputs": [],
   "source": [
    "def main():\n",
    "    with open('c2.txt', 'r') as read_obj:\n",
    "        lines = read_obj.readlines()\n",
    "        lines = [line.rstrip() for line in lines]\n",
    "\n",
    "        lines_dict = {}\n",
    "        lines_list = []\n",
    "        invalidList = []\n",
    "        for line in lines:\n",
    "            logModel = split_string(line)\n",
    "            if isinstance(logModel, LogModel):\n",
    "                lines_dict[logModel.timestamp] = logModel\n",
    "                lines_list.append(logModel)\n",
    "            else:\n",
    "                invalidList.append(line)\n",
    "                print(\"Not a valid log line\")\n",
    "\n",
    "        calculateProbablityAndAssignValueToLogModel(lines_list)\n",
    "\n",
    "        # save lines_dict into csv file\n",
    "        try:\n",
    "            with open('c21.csv', 'w') as csv_file:\n",
    "                writer = csv.writer(csv_file)\n",
    "                writer.writerow(\n",
    "                    [\"index\", \"log_level\", \"timestamp\", \"device\", \"component\", \"log_message\", \"json\", \"label\"])\n",
    "                for i, line in enumerate(lines_list):\n",
    "                    probablity = 0.0\n",
    "                    if hasattr(line, 'probability'):\n",
    "                        probablity = line.probability\n",
    "                    else:\n",
    "                        probablity = 0.0\n",
    "\n",
    "                    label = assignLabel(line, \"Apr 5 15:46:09\")\n",
    "                    writer.writerow(\n",
    "                        [i, line.log_level, line.timestamp, line.device, line.component, line.log_message, line.json,label])\n",
    "\n",
    "            with open('invalid.csv', 'w') as csv_file:\n",
    "                writer = csv.writer(csv_file)\n",
    "                writer.writerow([\"invalid log lines\"])\n",
    "                for line in invalidList:\n",
    "                    writer.writerow([line])\n",
    "            print(\" Writing to the CSV file: \")\n",
    "\n",
    "        except Exception as e:\n",
    "            print(\"An error occurred while writing to the CSV file: \", str(e))"
   ]
  },
  {
   "cell_type": "code",
   "execution_count": null,
   "id": "bcdb31c8",
   "metadata": {},
   "outputs": [],
   "source": []
  },
  {
   "cell_type": "code",
   "execution_count": null,
   "id": "f6f7972a",
   "metadata": {},
   "outputs": [],
   "source": [
    "if __name__ == '__main__':\n",
    "    main()\n",
    "\n",
    "\n",
    "    print(\"==========\\n\")\n",
    "    print(\"no of string input\", counter)\n",
    "    print(\"no of string parsed\", paseredCounter)\n",
    "\n",
    "\n",
    "\n",
    "    # 3. Write a python program to read the CSV file generated in step 2 and print the following:"
   ]
  }
 ],
 "metadata": {
  "jupytext": {
   "cell_metadata_filter": "-all",
   "main_language": "python",
   "notebook_metadata_filter": "-all"
  },
  "kernelspec": {
   "name": "python3",
   "language": "python",
   "display_name": "Python 3 (ipykernel)"
  }
 },
 "nbformat": 4,
 "nbformat_minor": 5
}

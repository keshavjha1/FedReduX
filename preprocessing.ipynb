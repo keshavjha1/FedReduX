{
 "cells": [
  {
   "cell_type": "code",
   "execution_count": 1,
   "outputs": [
    {
     "name": "stdout",
     "output_type": "stream",
     "text": [
      "/Users/keskuma2/JupterLab\n",
      "Extracting completed showtech-ASR-9912-A-generic-2023-Feb-07.122812.UTC\n",
      "Extracting completed showtech-ASR-9912-A-generic-2023-Feb-07.122931.UTC\n",
      "Extracting completed showtech-ASR-9912-A-generic-2023-Feb-07.122647.UTC\n",
      "directory showtech-ASR-9912-A-generic-2023-Feb-07.122812.UTC\n",
      "[]\n",
      "gunziping file: /Users/keskuma2/JupterLab/showtech-ASR-9912-A-generic-2023-Feb-07.122812.UTC/system.tech.gz\n",
      "gunziping file: /Users/keskuma2/JupterLab/showtech-ASR-9912-A-generic-2023-Feb-07.122812.UTC/node0_5_CPU0.tech.gz\n",
      "gunziping file: /Users/keskuma2/JupterLab/showtech-ASR-9912-A-generic-2023-Feb-07.122812.UTC/node0_2_CPU0.tech.gz\n",
      "gunziping file: /Users/keskuma2/JupterLab/showtech-ASR-9912-A-generic-2023-Feb-07.122812.UTC/node0_4_CPU0.tech.gz\n",
      "gunziping file: /Users/keskuma2/JupterLab/showtech-ASR-9912-A-generic-2023-Feb-07.122812.UTC/node0_9_CPU0.tech.gz\n",
      "gunziping file: /Users/keskuma2/JupterLab/showtech-ASR-9912-A-generic-2023-Feb-07.122812.UTC/node0_8_CPU0.tech.gz\n",
      "gunziping file: /Users/keskuma2/JupterLab/showtech-ASR-9912-A-generic-2023-Feb-07.122812.UTC/node0_RP0_CPU0.tech.gz\n",
      "gunziping file: /Users/keskuma2/JupterLab/showtech-ASR-9912-A-generic-2023-Feb-07.122812.UTC/node0_RP1_CPU0.tech.gz\n",
      "gunziping file: /Users/keskuma2/JupterLab/showtech-ASR-9912-A-generic-2023-Feb-07.122812.UTC/node0_6_CPU0.tech.gz\n",
      "gunziping file: /Users/keskuma2/JupterLab/showtech-ASR-9912-A-generic-2023-Feb-07.122812.UTC/node0_1_CPU0.tech.gz\n",
      "directory showtech-ASR-9912-A-generic-2023-Feb-07.122931.UTC\n",
      "[]\n",
      "gunziping file: /Users/keskuma2/JupterLab/showtech-ASR-9912-A-generic-2023-Feb-07.122931.UTC/system.tech.gz\n",
      "gunziping file: /Users/keskuma2/JupterLab/showtech-ASR-9912-A-generic-2023-Feb-07.122931.UTC/node0_5_CPU0.tech.gz\n",
      "gunziping file: /Users/keskuma2/JupterLab/showtech-ASR-9912-A-generic-2023-Feb-07.122931.UTC/node0_2_CPU0.tech.gz\n",
      "gunziping file: /Users/keskuma2/JupterLab/showtech-ASR-9912-A-generic-2023-Feb-07.122931.UTC/node0_4_CPU0.tech.gz\n",
      "gunziping file: /Users/keskuma2/JupterLab/showtech-ASR-9912-A-generic-2023-Feb-07.122931.UTC/node0_9_CPU0.tech.gz\n",
      "gunziping file: /Users/keskuma2/JupterLab/showtech-ASR-9912-A-generic-2023-Feb-07.122931.UTC/node0_8_CPU0.tech.gz\n",
      "gunziping file: /Users/keskuma2/JupterLab/showtech-ASR-9912-A-generic-2023-Feb-07.122931.UTC/node0_RP0_CPU0.tech.gz\n",
      "gunziping file: /Users/keskuma2/JupterLab/showtech-ASR-9912-A-generic-2023-Feb-07.122931.UTC/node0_RP1_CPU0.tech.gz\n",
      "gunziping file: /Users/keskuma2/JupterLab/showtech-ASR-9912-A-generic-2023-Feb-07.122931.UTC/node0_6_CPU0.tech.gz\n",
      "gunziping file: /Users/keskuma2/JupterLab/showtech-ASR-9912-A-generic-2023-Feb-07.122931.UTC/node0_1_CPU0.tech.gz\n",
      "directory showtech-ASR-9912-A-generic-2023-Feb-07.122647.UTC\n",
      "[]\n",
      "gunziping file: /Users/keskuma2/JupterLab/showtech-ASR-9912-A-generic-2023-Feb-07.122647.UTC/system.tech.gz\n",
      "gunziping file: /Users/keskuma2/JupterLab/showtech-ASR-9912-A-generic-2023-Feb-07.122647.UTC/node0_5_CPU0.tech.gz\n",
      "gunziping file: /Users/keskuma2/JupterLab/showtech-ASR-9912-A-generic-2023-Feb-07.122647.UTC/node0_2_CPU0.tech.gz\n",
      "gunziping file: /Users/keskuma2/JupterLab/showtech-ASR-9912-A-generic-2023-Feb-07.122647.UTC/node0_4_CPU0.tech.gz\n",
      "gunziping file: /Users/keskuma2/JupterLab/showtech-ASR-9912-A-generic-2023-Feb-07.122647.UTC/node0_9_CPU0.tech.gz\n",
      "gunziping file: /Users/keskuma2/JupterLab/showtech-ASR-9912-A-generic-2023-Feb-07.122647.UTC/node0_8_CPU0.tech.gz\n",
      "gunziping file: /Users/keskuma2/JupterLab/showtech-ASR-9912-A-generic-2023-Feb-07.122647.UTC/node0_RP0_CPU0.tech.gz\n",
      "gunziping file: /Users/keskuma2/JupterLab/showtech-ASR-9912-A-generic-2023-Feb-07.122647.UTC/node0_RP1_CPU0.tech.gz\n",
      "gunziping file: /Users/keskuma2/JupterLab/showtech-ASR-9912-A-generic-2023-Feb-07.122647.UTC/node0_6_CPU0.tech.gz\n",
      "gunziping file: /Users/keskuma2/JupterLab/showtech-ASR-9912-A-generic-2023-Feb-07.122647.UTC/node0_1_CPU0.tech.gz\n",
      "/Users/keskuma2/JupterLab\n",
      "Word Failed: Bad handle found in file system.tech\n",
      "Word Failed: Bad handle found in file system.tech\n",
      "Word Failed: Bad handle found in file system.tech\n"
     ]
    }
   ],
   "source": [
    "import os\n",
    "import tarfile\n",
    "import glob\n",
    "import subprocess\n",
    "\n",
    "\n",
    "file_names = list()\n",
    "\n",
    "\n",
    "def main():\n",
    "    # loop through all files in directory\n",
    "    current_dir = os.getcwd()\n",
    "    print(current_dir)\n",
    "    # define a list to store file names\n",
    "\n",
    "    # loop through all files in directory\n",
    "    for file_name in os.listdir(current_dir):\n",
    "        # check if file is .tgz file\n",
    "        if file_name.endswith('.tgz'):\n",
    "            # open tar file`\n",
    "            tar = tarfile.open(file_name, 'r:gz')\n",
    "            # remove first word upto hypen from file name\n",
    "            # remove .tgz from file name\n",
    "            file_name = file_name[:-4]\n",
    "            # store file_name in list\n",
    "            file_names.append(file_name)\n",
    "            # extract all files to current directory\n",
    "            tar.extractall()\n",
    "            print(\"Extracting completed \" + file_name)\n",
    "\n",
    "            # close tar file\n",
    "            tar.close()\n",
    "\n",
    "\n",
    "#write main function\n",
    "def child_extarct(file_names):\n",
    "    #define a string variable to store current directory name\n",
    "    current_dir = os.getcwd();\n",
    "    for file in file_names:\n",
    "        # remove tar file\n",
    "        print(\"directory\", file)\n",
    "        all_gz_files = glob.glob('*.gz')\n",
    "        tech_gz_files = [file for file in all_gz_files if 'tech.gz' in file]\n",
    "        # Print the list of tech.gz files\n",
    "        print(tech_gz_files)\n",
    "        # change directory to file\n",
    "\n",
    "\n",
    "        dir_path= current_dir+\"/\"+file;\n",
    "        for filename in os.listdir(dir_path):\n",
    "            # check if the file is compressed using gzip\n",
    "            if filename.endswith(\".gz\"):\n",
    "                # create the full path to the file\n",
    "                filepath = os.path.join(dir_path, filename)\n",
    "                print(\"gunziping file: \" + filepath)\n",
    "                # run the gunzip command using subprocess module\n",
    "                subprocess.run([\"gunzip\", \"-f\", filepath])\n",
    "\n",
    "\n",
    "\n",
    "\n",
    "\n",
    "#  Write a function to search for a word in a file\n",
    "def search_word_in_file(file_name, word):\n",
    "    # open file in read mode\n",
    "    with open(file_name, 'r') as read_obj:\n",
    "        # read all lines in the file one by one\n",
    "        for line in read_obj:\n",
    "            # for each line, check if line contains the given word\n",
    "            if word in line:\n",
    "                return True\n",
    "    return False\n",
    "#  Write a function to search for a word in all files in a directory and all subdirectories\n",
    "def search_word_in_all_files(filedir, word):\n",
    "    # define a list to store file names\n",
    "    file_names = list()\n",
    "    current_dir = os.getcwd();\n",
    "\n",
    "    print(current_dir)\n",
    "    # loop through all files in directory\n",
    "    for file_dir in filedir:\n",
    "        temp_dir=current_dir+\"/\"+file_dir\n",
    "        for file_name in os.listdir(temp_dir):\n",
    "            # check if file is .txt file\n",
    "            if file_name.endswith('.tech'):\n",
    "                # store file_name in list\n",
    "                if search_word_in_file(temp_dir+\"/\"+file_name, word):\n",
    "                    print(\"Word \" + word + \" found in file \" + file_name)\n",
    "\n",
    "\n",
    "\n",
    "\n",
    "if __name__ == '__main__':\n",
    "    main()\n",
    "    child_extarct(file_names);\n",
    "    search_word_in_all_files(file_names, 'Failed: Bad handle')\n"
   ],
   "metadata": {
    "collapsed": false,
    "pycharm": {
     "name": "#%%\n"
    }
   }
  },
  {
   "cell_type": "code",
   "execution_count": null,
   "outputs": [],
   "source": [
    "print(\"hello\")"
   ],
   "metadata": {
    "collapsed": false,
    "pycharm": {
     "name": "#%%\n"
    }
   }
  },
  {
   "cell_type": "code",
   "execution_count": null,
   "outputs": [],
   "source": [
    "print(\"world\")"
   ],
   "metadata": {
    "collapsed": false,
    "pycharm": {
     "name": "#%%\n"
    }
   }
  },
  {
   "cell_type": "code",
   "execution_count": 19,
   "id": "e78635bf-2de3-4a22-a584-0590be6c5a8e",
   "metadata": {
    "tags": [],
    "pycharm": {
     "name": "#%%\n"
    }
   },
   "outputs": [
    {
     "name": "stdout",
     "output_type": "stream",
     "text": [
      "hello\n"
     ]
    }
   ],
   "source": [
    "print(\"hello\")"
   ]
  },
  {
   "cell_type": "code",
   "execution_count": 20,
   "id": "f8491516-c25a-4c2a-b97c-9a471cdb92e5",
   "metadata": {
    "tags": [],
    "pycharm": {
     "name": "#%%\n"
    }
   },
   "outputs": [
    {
     "name": "stdout",
     "output_type": "stream",
     "text": [
      "world\n"
     ]
    }
   ],
   "source": [
    "print(\"world\")"
   ]
  },
  {
   "cell_type": "code",
   "execution_count": null,
   "id": "54af37b7-a8b0-479b-8dea-6051255a2b12",
   "metadata": {
    "pycharm": {
     "name": "#%%\n"
    }
   },
   "outputs": [],
   "source": []
  }
 ],
 "metadata": {
  "kernelspec": {
   "display_name": "Python 3 (ipykernel)",
   "language": "python",
   "name": "python3"
  },
  "language_info": {
   "codemirror_mode": {
    "name": "ipython",
    "version": 3
   },
   "file_extension": ".py",
   "mimetype": "text/x-python",
   "name": "python",
   "nbconvert_exporter": "python",
   "pygments_lexer": "ipython3",
   "version": "3.10.5"
  }
 },
 "nbformat": 4,
 "nbformat_minor": 5
}
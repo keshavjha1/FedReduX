{
 "cells": [
  {
   "cell_type": "code",
   "execution_count": null,
   "outputs": [],
   "source": [
    "import os\n",
    "import tarfile\n",
    "import glob\n",
    "\n",
    "# get current directory\n",
    "current_dir = os.getcwd()\n",
    "print(current_dir)\n",
    "# loop through all files in directory\n",
    "for file_name in os.listdir(current_dir):\n",
    "    # check if file is .tgz file\n",
    "    if file_name.endswith('.tgz'):\n",
    "        # open tar file\n",
    "        tar = tarfile.open(file_name, 'r:gz')\n",
    "        # extract all files to current directory\n",
    "        tar.extractall()\n",
    "        print(\"Extracting completed \" + file_name)\n",
    "     \n",
    "        # close tar file\n",
    "        tar.close()\n",
    "        \n",
    "\n",
    "\n",
    "\n",
    "\n",
    "# Print the list of tech.gz files\n",
    "print(tech_gz_files)       \n"
   ],
   "metadata": {
    "collapsed": false,
    "pycharm": {
     "name": "#%%\n"
    }
   }
  },
  {
   "cell_type": "code",
   "execution_count": null,
   "outputs": [],
   "source": [
    "print(\"hello\")"
   ],
   "metadata": {
    "collapsed": false,
    "pycharm": {
     "name": "#%%\n"
    }
   }
  },
  {
   "cell_type": "code",
   "execution_count": null,
   "outputs": [],
   "source": [
    "print(\"world\")"
   ],
   "metadata": {
    "collapsed": false,
    "pycharm": {
     "name": "#%%\n"
    }
   }
  },
  {
   "cell_type": "code",
   "execution_count": 19,
   "id": "e78635bf-2de3-4a22-a584-0590be6c5a8e",
   "metadata": {
    "tags": []
   },
   "outputs": [
    {
     "name": "stdout",
     "output_type": "stream",
     "text": [
      "hello\n"
     ]
    }
   ],
   "source": [
    "print(\"hello\")"
   ]
  },
  {
   "cell_type": "code",
   "execution_count": 20,
   "id": "f8491516-c25a-4c2a-b97c-9a471cdb92e5",
   "metadata": {
    "tags": []
   },
   "outputs": [
    {
     "name": "stdout",
     "output_type": "stream",
     "text": [
      "world\n"
     ]
    }
   ],
   "source": [
    "print(\"world\")"
   ]
  },
  {
   "cell_type": "code",
   "execution_count": null,
   "id": "54af37b7-a8b0-479b-8dea-6051255a2b12",
   "metadata": {},
   "outputs": [],
   "source": []
  }
 ],
 "metadata": {
  "kernelspec": {
   "display_name": "Python 3 (ipykernel)",
   "language": "python",
   "name": "python3"
  },
  "language_info": {
   "codemirror_mode": {
    "name": "ipython",
    "version": 3
   },
   "file_extension": ".py",
   "mimetype": "text/x-python",
   "name": "python",
   "nbconvert_exporter": "python",
   "pygments_lexer": "ipython3",
   "version": "3.10.5"
  }
 },
 "nbformat": 4,
 "nbformat_minor": 5
}